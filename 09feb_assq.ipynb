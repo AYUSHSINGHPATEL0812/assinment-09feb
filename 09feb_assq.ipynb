{
 "cells": [
  {
   "cell_type": "code",
   "execution_count": null,
   "id": "c35a7682-94db-4ffe-b8e2-56d49728eb2c",
   "metadata": {},
   "outputs": [],
   "source": [
    "Q5."
   ]
  },
  {
   "cell_type": "code",
   "execution_count": null,
   "id": "7af79fc5-c157-4ada-a086-93fed7208a38",
   "metadata": {},
   "outputs": [],
   "source": [
    "ans :-  Method overriding in Python refers to the ability to redefine a method in a derived class that is already defined in its base class."
   ]
  },
  {
   "cell_type": "code",
   "execution_count": 1,
   "id": "5f9df26d-bd2e-4637-adb8-8b82419c41fd",
   "metadata": {},
   "outputs": [],
   "source": [
    "class Animal:\n",
    "    def sound(self):\n",
    "        print(\"Animal makes a sound\")\n",
    "\n",
    "class Cat(Animal):\n",
    "    def sound(self):\n",
    "        print(\"Meow\")\n",
    "\n",
    "class Dog(Animal):\n",
    "    def sound(self):\n",
    "        print(\"Woof\")"
   ]
  },
  {
   "cell_type": "code",
   "execution_count": 2,
   "id": "275bfd04-1625-4472-b609-55c46ae8b49b",
   "metadata": {},
   "outputs": [],
   "source": [
    "cat = Cat()\n",
    "dog = Dog()"
   ]
  },
  {
   "cell_type": "code",
   "execution_count": 3,
   "id": "f2fe8bf9-478d-47ff-bad2-ba18d09d0f55",
   "metadata": {},
   "outputs": [
    {
     "name": "stdout",
     "output_type": "stream",
     "text": [
      "Meow\n",
      "Woof\n"
     ]
    }
   ],
   "source": [
    "cat.sound()  \n",
    "dog.sound()  "
   ]
  },
  {
   "cell_type": "code",
   "execution_count": null,
   "id": "ae671b8c-3178-404b-a53a-08d362103b6e",
   "metadata": {},
   "outputs": [],
   "source": []
  },
  {
   "cell_type": "code",
   "execution_count": null,
   "id": "c6257858-1105-4a2b-aefd-385aef47a604",
   "metadata": {},
   "outputs": [],
   "source": [
    "Q 4 :-"
   ]
  },
  {
   "cell_type": "code",
   "execution_count": null,
   "id": "2f51331f-50b6-4d3d-931f-9b2cc84955b5",
   "metadata": {},
   "outputs": [],
   "source": [
    "In Python, getter and setter methods are used to control the access and modification of class attributes."
   ]
  },
  {
   "cell_type": "code",
   "execution_count": 5,
   "id": "94c3d271-0b57-44a3-ab28-e18112085d68",
   "metadata": {},
   "outputs": [
    {
     "name": "stdout",
     "output_type": "stream",
     "text": [
      "John\n",
      "Alice\n"
     ]
    }
   ],
   "source": [
    "class Person:\n",
    "    def __init__(self, name):\n",
    "        self._name = name  \n",
    "\n",
    "    def get_name(self):\n",
    "        return self._name\n",
    "\n",
    "    def set_name(self, new_name):\n",
    "        self._name = new_name\n",
    "\n",
    "person = Person(\"John\")\n",
    "\n",
    "print(person.get_name())  \n",
    "\n",
    "person.set_name(\"Alice\")\n",
    "\n",
    "print(person.get_name()) \n"
   ]
  },
  {
   "cell_type": "code",
   "execution_count": null,
   "id": "fea0b51e-5ad0-4383-ba68-cbd86ac602b3",
   "metadata": {},
   "outputs": [],
   "source": []
  },
  {
   "cell_type": "code",
   "execution_count": null,
   "id": "4476a713-a837-432e-b719-63bf865b786d",
   "metadata": {},
   "outputs": [],
   "source": [
    "Q 3 :-"
   ]
  },
  {
   "cell_type": "code",
   "execution_count": null,
   "id": "542ebc9b-144a-415b-8d50-1c96987b9e5a",
   "metadata": {},
   "outputs": [],
   "source": [
    "Multiple inheritance is a feature in object-oriented programming where a\n",
    "class can inherit attributes and methods from multiple parent classes. In multiple inheritance,\n",
    "a child class can derive characteristics and behaviors from more than one base class."
   ]
  },
  {
   "cell_type": "code",
   "execution_count": 7,
   "id": "2881ad1c-c43e-433b-8924-a52432e463ae",
   "metadata": {},
   "outputs": [
    {
     "name": "stdout",
     "output_type": "stream",
     "text": [
      "Animal is eating\n",
      "Mammal is walking\n",
      "Dog is barking\n"
     ]
    }
   ],
   "source": [
    "class Animal:\n",
    "    def eat(self):\n",
    "        print(\"Animal is eating\")\n",
    "\n",
    "class Mammal:\n",
    "    def walk(self):\n",
    "        print(\"Mammal is walking\")\n",
    "\n",
    "class Dog(Animal, Mammal):\n",
    "    def bark(self):\n",
    "        print(\"Dog is barking\")\n",
    "        \n",
    "dog = Dog() \n",
    "\n",
    "\n",
    "dog.eat()   \n",
    "dog.walk()\n",
    "dog.bark()"
   ]
  },
  {
   "cell_type": "code",
   "execution_count": null,
   "id": "bf0f805a-4bb3-42ab-ad14-0c9ca59ca565",
   "metadata": {},
   "outputs": [],
   "source": []
  },
  {
   "cell_type": "code",
   "execution_count": null,
   "id": "8fef60c8-b9a7-40aa-8a40-021a6cc4585c",
   "metadata": {},
   "outputs": [],
   "source": [
    "Q2:-"
   ]
  },
  {
   "cell_type": "code",
   "execution_count": 8,
   "id": "accbf163-2c5d-41b7-afeb-ed87f7f37493",
   "metadata": {},
   "outputs": [
    {
     "name": "stdout",
     "output_type": "stream",
     "text": [
      "Vehicle name: Honda Civic\n",
      "Honda Civic has a seating capacity of 5 persons\n"
     ]
    }
   ],
   "source": [
    "class Vehicle:\n",
    "    def __init__(self, name):\n",
    "        self.name = name\n",
    "\n",
    "    def display_name(self):\n",
    "        print(\"Vehicle name:\", self.name)\n",
    "\n",
    "\n",
    "class Car(Vehicle):\n",
    "    def seating_capacity(self, capacity):\n",
    "        return self.name + \" has a seating capacity of \" + str(capacity) + \" persons\"\n",
    "\n",
    "\n",
    "car = Car(\"Honda Civic\")\n",
    "\n",
    "car.display_name()  \n",
    "\n",
    "\n",
    "capacity = 5\n",
    "result = car.seating_capacity(capacity)\n",
    "print(result)  \n"
   ]
  },
  {
   "cell_type": "code",
   "execution_count": null,
   "id": "094317ae-2640-4e13-b6f4-6a132bcb8a5b",
   "metadata": {},
   "outputs": [],
   "source": []
  },
  {
   "cell_type": "code",
   "execution_count": null,
   "id": "076197e8-e588-4c1e-8ddb-f6c4752373f5",
   "metadata": {},
   "outputs": [],
   "source": [
    "Q1 ;-"
   ]
  },
  {
   "cell_type": "code",
   "execution_count": 12,
   "id": "37faf6db-f5c3-4648-931a-723fb606ad16",
   "metadata": {},
   "outputs": [
    {
     "ename": "SyntaxError",
     "evalue": "invalid syntax (1548251960.py, line 3)",
     "output_type": "error",
     "traceback": [
      "\u001b[0;36m  Cell \u001b[0;32mIn[12], line 3\u001b[0;36m\u001b[0m\n\u001b[0;31m    print(car.name_of_vehicle)     :\u001b[0m\n\u001b[0m                                   ^\u001b[0m\n\u001b[0;31mSyntaxError\u001b[0m\u001b[0;31m:\u001b[0m invalid syntax\n"
     ]
    }
   ],
   "source": [
    "car = Vehicle(\"Honda Civic\", 200, 3)\n",
    "              \n",
    "print(car.name_of_vehicle) \n",
    "print(car.max_speed)            \n",
    "print(car.average_of_vehicle)   \n"
   ]
  },
  {
   "cell_type": "code",
   "execution_count": null,
   "id": "9dacf5fb-67ec-42d9-b9bf-10971421a10b",
   "metadata": {},
   "outputs": [],
   "source": []
  }
 ],
 "metadata": {
  "kernelspec": {
   "display_name": "Python 3 (ipykernel)",
   "language": "python",
   "name": "python3"
  },
  "language_info": {
   "codemirror_mode": {
    "name": "ipython",
    "version": 3
   },
   "file_extension": ".py",
   "mimetype": "text/x-python",
   "name": "python",
   "nbconvert_exporter": "python",
   "pygments_lexer": "ipython3",
   "version": "3.10.8"
  }
 },
 "nbformat": 4,
 "nbformat_minor": 5
}
